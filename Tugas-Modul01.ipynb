{
 "cells": [
  {
   "cell_type": "markdown",
   "metadata": {},
   "source": [
    "#### Soal 1\n",
    "#### Daftar 5 Situs Web Favorit\n",
    "Berikut adalah daftar 5 situs web yang paling sering saya kunjungi:\n",
    "\n",
    "1. **Google**  \n",
    "   URL: [Google](https://www.google.com)   \n",
    "2. **YouTube**  \n",
    "   URL: [YouTube](https://www.youtube.com)  \n",
    "3. **X (Twitter)**  \n",
    "   URL: [Twitter](https://twitter.com) \n",
    "4. **Pinterest**  \n",
    "   URL: [Pinterest](https://www.pinterest.com)  \n",
    "5. **Quora**  \n",
    "   URL: [Quora](https://www.quora.com)  "
   ]
  },
  {
   "cell_type": "markdown",
   "metadata": {},
   "source": [
    "#### Soal 2\n",
    "#### Fisikawan Favorit: Nikola Tesla dan BJ Habibie\n",
    "\n",
    "**Nikola Tesla**  \n",
    "Nikola Tesla merupakan seorang ilmuan (penemu), insinyur listrik, dan fisikawan yang sangat saya kagumi. Dia dikenal sebagai salah satu ilmuwan paling berpengaruh dalam sejarah teknologi, terutama untuk kontribusinya dalam pengembangan sistem listrik arus bolak-balik (AC). Tesla juga menciptakan banyak penemuan revolusioner seperti motor induksi, teknologi radio, dan kumparan Tesla. Meskipun sering diabaikan pada masanya, warisannya kini diakui sebagai fondasi teknologi modern.\n",
    "\n",
    "**Sumber:** [Wikipedia - Nikola Tesla](https://en.wikipedia.org/wiki/Nikola_Tesla)  \n",
    "**Gambar:**  \n",
    "![Nikola Tesla](https://upload.wikimedia.org/wikipedia/commons/thumb/d/d4/N.Tesla.JPG/220px-N.Tesla.JPG)\n",
    "\n",
    "---\n",
    "\n",
    "**BJ Habibie**  \n",
    "Bacharuddin Jusuf Habibie, atau yang lebih dikenal sebagai BJ Habibie, adalah seorang insinyur dan presiden ketiga Indonesia yang sangat saya hormati. Beliau adalah seorang ahli dalam bidang aeronautika dan dirgantara, serta dikenal sebagai \"Bapak Teknologi Indonesia\". Habibie berperan besar dalam pengembangan industri pesawat terbang di Indonesia dan dunia, terutama melalui teorinya yang dikenal sebagai \"Faktor Habibie\". Selain itu, beliau juga merupakan sosok yang inspiratif dalam memajukan pendidikan dan teknologi di Indonesia.\n",
    "\n",
    "**Sumber:** [Wikipedia - BJ Habibie](https://en.wikipedia.org/wiki/B._J._Habibie)  \n",
    "**Gambar:**  \n",
    "![BJ Habibie](https://kebudayaan.kemdikbud.go.id/dpk/wp-content/uploads/sites/5/2015/08/IMG_7753-a.jpg)"
   ]
  },
  {
   "cell_type": "markdown",
   "metadata": {},
   "source": [
    "#### Soal 3\n",
    "#### Tabel Mata Kuliah Semester Ini\n",
    "Berikut adalah daftar mata kuliah yang saya ambil semester ini:\n",
    "\n",
    "\n",
    "| Kode Mata Kuliah | Nama Mata Kuliah         | Nama Dosen              |\n",
    "|------------------|--------------------------|-------------------------|\n",
    "| ADK2MAB3         | Teknik Komputasi         | Ahmad Ridwan.T.Nugraha  |\n",
    "| ADK2HAB3         | Mekanika fluida          | Tri Ayodha              |\n",
    "| ADK2FAB3         | Gelombang dan Akustika   | Yogi                    |\n",
    "| ADK2KAB3         | Fungsi Kompleks          | Suwandi                 |\n",
    "| ADK2IAB3         | Elektronika Digital      | Indra Candra            |\n",
    "| ADK2JAB3         | Analisis Termal          | M. Ramdlan Kirom        |\n"
   ]
  },
  {
   "cell_type": "markdown",
   "metadata": {},
   "source": [
    "#### Soal 4: Identitas Trigonometri\n",
    "Berikut adalah identitas trigonometri \n",
    "$$\n",
    "\\cos(\\alpha \\pm \\beta) = \\cos \\alpha \\cos \\beta \\mp \\sin \\alpha \\sin \\beta\n",
    "$$"
   ]
  },
  {
   "cell_type": "markdown",
   "metadata": {},
   "source": [
    "### Soal 5: Integral Tak-Tentu\n",
    "Berikut adalah integral tak-tentu dari\n",
    "\n",
    "$$\n",
    "\\int \\frac{1}{1 + x^2} \\,dx = \\arctan x + C\n",
    "$$\n"
   ]
  },
  {
   "cell_type": "markdown",
   "metadata": {},
   "source": [
    "### Soal 6: Persamaan Navier-Stokes\n",
    "$$\n",
    "\\frac{\\partial \\mathbf{u}}{\\partial t} + (\\mathbf{u} \\cdot \\nabla) \\mathbf{u} \n",
    "- \\nu \\nabla^2 \\mathbf{u} = - \\nabla w + \\mathbf{g}\n",
    "$$\n"
   ]
  },
  {
   "cell_type": "markdown",
   "metadata": {},
   "source": [
    "### Soal 7: Deret Taylor\n",
    "$$\n",
    "\\sum_{n=0}^{\\infty} \\frac{f^{(n)}(a)}{n!} (x - a)^n\n",
    "$$\n"
   ]
  },
  {
   "cell_type": "markdown",
   "metadata": {},
   "source": [
    "#### Soal 8: Formula Matriks Invers\n",
    "Berikut adalah formula untuk invers matriks \n",
    "$$\n",
    "\\begin{bmatrix} a & b \\\\ c & d \\end{bmatrix}^{-1} =\n",
    "\\frac{1}{ad - bc}\n",
    "\\begin{bmatrix} d & -b \\\\ -c & a \\end{bmatrix}\n",
    "$$\n"
   ]
  },
  {
   "cell_type": "markdown",
   "metadata": {},
   "source": [
    "#### Soal 9: Aproksimasi Deret Taylor untuk \n",
    "$$\n",
    "\\ f(x) = \\cos(x) \\\n",
    "$$\n",
    "\n",
    "#####   A. Nilai eksak cos(π/3)\n",
    "Menghitung nilai eksak cos(π/3).\n",
    "\n",
    "#####   B. Aproksimasi menggunakan deret Taylor orde 2\n",
    "Menggunakan rumus pendekatan Taylor sampai orde 2.\n",
    "\n",
    "#####   C. Menghitung galat pemotongan\n",
    "Menghitung selisih antara nilai eksak dan nilai aproksimasi.\n",
    "\n",
    "#####   D. Menentukan apakah aproksimasi diterima dalam batas toleransi\n",
    "Cek apakah galat lebih kecil dari batas toleransi.\n",
    "\n",
    "#####   E. Menampilkan hasil perhitungan\n",
    "Menampilkan hasil akhir perhitungan dengan format yang rapi.\n",
    "\n"
   ]
  },
  {
   "cell_type": "code",
   "execution_count": 1,
   "metadata": {},
   "outputs": [
    {
     "name": "stdout",
     "output_type": "stream",
     "text": [
      "Nilai Eksak cos(π/3)         : 0.500000\n",
      "Aproksimasi Taylor Orde 2    : 0.451689\n",
      "Galat Pemotongan             : 0.048311\n",
      "Apakah Aproksimasi Diterima? : False\n"
     ]
    }
   ],
   "source": [
    "import numpy as np\n",
    "\n",
    "# Nilai eksak cos(π/3)\n",
    "x = np.pi / 3\n",
    "cos_x = np.cos(x)\n",
    "\n",
    "# Aproksimasi menggunakan deret Taylor orde 2\n",
    "T2_x = 1 - (x**2) / 2\n",
    "\n",
    "# Menghitung galat pemotongan\n",
    "G_x = abs(cos_x - T2_x)\n",
    "\n",
    "# Menentukan apakah aproksimasi diterima dalam batas toleransi\n",
    "toleransi = 1e-4\n",
    "hasil = G_x < toleransi\n",
    "\n",
    "# Menampilkan hasil perhitungan dengan format rapi\n",
    "print(f\"Nilai Eksak cos(π/3)         : {cos_x:.6f}\")\n",
    "print(f\"Aproksimasi Taylor Orde 2    : {T2_x:.6f}\")\n",
    "print(f\"Galat Pemotongan             : {G_x:.6f}\")\n",
    "print(f\"Apakah Aproksimasi Diterima? : {hasil}\")"
   ]
  },
  {
   "cell_type": "markdown",
   "metadata": {},
   "source": [
    "#### Soal 10: Ambil bilangan desimal 7.25."
   ]
  },
  {
   "cell_type": "code",
   "execution_count": 2,
   "metadata": {},
   "outputs": [
    {
     "name": "stdout",
     "output_type": "stream",
     "text": [
      "Bilangan Desimal            : 7.25\n",
      "Representasi IEEE 754 (32-bit) : 01000000111010000000000000000000\n",
      "Bit Tanda                   : 0\n",
      "Eksponen                    : 10000001\n",
      "Mantisa                     : 11010000000000000000000\n"
     ]
    }
   ],
   "source": [
    "import struct\n",
    "\n",
    "# Fungsi untuk mengonversi bilangan float ke representasi biner IEEE 754 (32-bit)\n",
    "def float_to_bin(num):\n",
    "    return format(struct.unpack('!I', struct.pack('!f', num))[0], '032b')\n",
    "\n",
    "# Bilangan desimal\n",
    "decimal = 7.25\n",
    "\n",
    "# Konversi ke format IEEE 754\n",
    "binary_rep = float_to_bin(decimal)\n",
    "\n",
    "# Ekstrak komponen IEEE 754\n",
    "sign_bit = binary_rep[0]         # 1 bit tanda\n",
    "exponent_bit = binary_rep[1:9]   # 8 bit eksponen\n",
    "mantissa_bit = binary_rep[9:]    # 23 bit mantisa\n",
    "\n",
    "# Menampilkan hasil dengan format rapi\n",
    "print(f\"Bilangan Desimal            : {decimal}\")\n",
    "print(f\"Representasi IEEE 754 (32-bit) : {binary_rep}\")\n",
    "print(f\"Bit Tanda                   : {sign_bit}\")\n",
    "print(f\"Eksponen                    : {exponent_bit}\")\n",
    "print(f\"Mantisa                     : {mantissa_bit}\")"
   ]
  }
 ],
 "metadata": {
  "kernelspec": {
   "display_name": ".venv",
   "language": "python",
   "name": "python3"
  },
  "language_info": {
   "codemirror_mode": {
    "name": "ipython",
    "version": 3
   },
   "file_extension": ".py",
   "mimetype": "text/x-python",
   "name": "python",
   "nbconvert_exporter": "python",
   "pygments_lexer": "ipython3",
   "version": "3.11.9"
  }
 },
 "nbformat": 4,
 "nbformat_minor": 2
}
