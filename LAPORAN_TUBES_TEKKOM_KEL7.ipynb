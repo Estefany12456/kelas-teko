{
 "cells": [
  {
   "cell_type": "markdown",
   "id": "5718380b",
   "metadata": {},
   "source": [
    "### Laporan Tugas Besar Mata Kuliah Teknik Komputasi\n",
    "\n",
    "## ***PENGARUH GAYA GRAVITASI PADA lINTASAN BULAN-BUMI: SIMULASI POTENSI TUMBUKAN (STUDI KASUS 3D)***\n",
    "\n",
    "**Disusun oleh:**\n",
    "**KELOMPOK 7**\n",
    "1. Bintang Mizar Molawan      `[101042300030]`\n",
    "2. Diandra Aliyya             `[101042300064]`\n",
    "3. Estefany Novika Ramadhania `[101042330103]`\n",
    "4. Kinanthi Wulansari         `[1104223032]`"
   ]
  },
  {
   "cell_type": "markdown",
   "id": "ca511786",
   "metadata": {},
   "source": [
    "#### **I. PENDAHULUAN**\n",
    "\n",
    "Gerak benda langit seperti planet, satelit alami, dan asteroid merupakan topik pentik dalam mekanika klasik dan astrofisika. Salah satu fenomena menarik dalam dinamika langit adalah interaksi gravitasi antara bumi dan bulan. Walaupun dalam kenyataaanya bulan dalam orbit yang stabil.\n",
    "\n",
    "Dalam tugas ini, kami mensimulasikan gerak bulan disekitar bumi dalam tiga dimensi (3D). Tujuan kami untuk memahami dinamika geraknya dan menyelidiki potensi terjadinya tumbukan antara bulan dengan asteroid dari arah berlawanan yang mengakibatkan gravitasi bumi menarik bulan sebagai efek dari melambatnya kecepatan rotasi bulan.\n",
    "\n",
    "Simulasi dilakukan untuk melihat bagaimana posisi dan kecepatan awal bulan mempengaruhi dinamika orbit dan akhirnya menyebabkan tumbukan. Melalui program ini kami memodelkan gerak bulan sebagai sistem persamaan diferensial biasa  (PDB), lalu menyelesaikan secara numerik menggunakan metode Runge-Kutta. Juga memanfaatkan interpolasi Cubic Spline untuk analisis data yang lebih halus dan metode Newton-Raphson untuk secara persisi menentukan waktu terjadinya peristiwa tumbukan. Meskipun simulasi ini tidak realistiss secara fisik, pendekatan ini bermanfaat untuk memahami konsep orbit , energi mekanik, dan metode komputasi dalam fisika benda langit."
   ]
  },
  {
   "cell_type": "markdown",
   "id": "054fd3e4",
   "metadata": {},
   "source": [
    "#### **II. RUMUSAN MASALAH**\n",
    "\n",
    "1. Bagaimana memodelkan gerak Bulan terhadap Bumi secara tiga dimensi menggunakan hukum gravitasi Newton dalam persamaan Diferensial Biasa (PDB)?\n",
    "2. Bagaimana penerapan metode numerik Runge-Kutta untuk menyelesaikan PDB gerak Bulan dan mendapatkan lintasan pergerakannya?\n",
    "3. Bagaimana metode Newton Raphson bisa kita gunakan secara akurat untuk mengestimasi waktu tumbukan bulan dengan bumi?\n"
   ]
  },
  {
   "cell_type": "markdown",
   "id": "a3861553",
   "metadata": {},
   "source": [
    "#### **III. MODEL MATEMATIS**\n",
    "\n",
    "Simulasi ini berdasarkan hukum gravitasi Newton dan prinsip gerak Newtonian dalam ruang 3 dimensi.\n",
    "\n",
    "Persamaan gaya gravitasi antara dua benda bermassa:\n",
    "\n",
    "$[\n",
    "F = -G \\cdot \\frac{m_1 \\cdot m_2}{r^2}\n",
    "]$\n",
    "\n",
    "Dengan:\n",
    "- $F$: gaya tarik gravitasi\n",
    "- $G$: konstanta gravitasi universal ($6.674 \\times 10^{-11} \\ \\mathrm{Nm^2/kg^2}$)\n",
    "- $m_1$, $m_2$: massa Bumi dan Bulan\n",
    "- $r$: jarak antara pusat Bumi dan Bulan\n",
    "\n",
    "Karena gaya gravitasi selalu menarik, bukan mendorong. Tanda negatif menunjukkan arah gaya menuju pusat massa benda yang menarik (misalnya: Bumi).\n",
    "Gaya ini menyebabkan percepatan pada benda bermassa kecil (misalnya planet) sehingga geraknya dapat dituliskan dengan sistem Persamaan Diferensial Biasa (PDB):\n",
    "Kode yang ditampilkan Gaya gravitasi antara Bumi dan Bulan, sesuai dengan hukum gravitasi Newton:\n"
   ]
  },
  {
   "cell_type": "code",
   "execution_count": null,
   "id": "fc0ecb4c",
   "metadata": {},
   "outputs": [],
   "source": [
    "# Jarak dari pusat Bumi ke Bulan\n",
    "    jarak_satelit_ke_pusat = np.sqrt(x**2 + y**2 + z**2)\n",
    "    if jarak_satelit_ke_pusat == 0: \n",
    "        return [0,0,0,0,0,0]\n",
    "        \n",
    "    r_kubik = jarak_satelit_ke_pusat**3\n",
    "    dvxdt = -G * M_BUMI * x / r_kubik\n",
    "    dvydt = -G * M_BUMI * y / r_kubik\n",
    "    dvzdt = -G * M_BUMI * z / r_kubik"
   ]
  },
  {
   "cell_type": "markdown",
   "id": "5d30a2f7",
   "metadata": {},
   "source": [
    " bentuk gaya gravitasi sebagai vektor, di mana tanda negatif menandakan bahwa gaya tersebut bersifat tarik-menarik, alias mengarah ke pusat massa."
   ]
  },
  {
   "cell_type": "markdown",
   "id": "7dd5a295",
   "metadata": {},
   "source": [
    "#### **IV. METODOLOGI**\n",
    "\n",
    "##### **Persamaan Diferensial Biasa (PDB)**\n",
    "\n",
    "Sistem yang kami buat melibatkan gerak Bulan yang dipengaruhi gaya gravitasi Bumi. Diperhitungkan bahwa Bumi berada di titik pusat koordinat (0,0,0), sedangkan Bulan memiliki posisi dan kecepatan awal.\n",
    "\n",
    "Kemudian model dinamika dirumuskan sebagai sistem persamaan diferensial biasa (PDB) dalam ruang 3 dimensi:\n",
    "\n",
    "$[\n",
    "\\frac{d\\mathbf{S}}{dt} =\n",
    "\\begin{bmatrix}\n",
    "v_x \\\\\n",
    "v_y \\\\\n",
    "v_z \\\\\n",
    "-\\frac{G M x}{r^3} \\\\\n",
    "-\\frac{G M y}{r^3} \\\\\n",
    "-\\frac{G M z}{r^3}\n",
    "\\end{bmatrix}\n",
    "]$\n",
    "\n",
    "dengan:\n",
    "- $( \\mathbf{S}(t) = \\begin{bmatrix} x \\\\ y \\\\ z \\\\ v_x \\\\ v_y \\\\ v_z \\end{bmatrix} )$ adalah vektor keadaan Bulan.\n",
    "- $( G )$ adalah konstanta gravitasi universal.\n",
    "- $( M )$ adalah massa Bumi.\n",
    "- $( r = \\sqrt{x^2 + y^2 + z^2} )$ adalah jarak antara pusat Bumi dan Bulan.\n",
    "\n",
    "##### **Metode Runge-Kutta**\n",
    "\n",
    "Untuk menyelesaikan sistem PDB di atas secara numerik, kami gunakan metode **Runge-Kutta orde 4/5 (RK45)**. Metode ini diterapkan menggunakan fungsi `solve_ivp` dari pustaka `scipy.integrate`.\n",
    "\n",
    "Keunggulan metode Runge-Kutta adalah ketelitiannya dalam menyelesaikan sistem non-linear tanpa memerlukan turunan eksplisit dari sistem persamaan.\n",
    "\n",
    "Penyelesaian numerik ini menghasilkan vektor posisi dan kecepatan Bulan sepanjang waktu, yang digunakan untuk analisis dan visualisasi lintasan.\n",
    "\n",
    "\n",
    "#### **Metode Newton-Raphson**\n",
    "\n",
    "Setelah lintasan Bulan dan jarak terhadap Bumi dalam fungsi waktu ditemukan, selanjutnya dilakukan penentuan **waktu tumbukan** dengan metode Newton-Raphson.\n",
    "\n",
    "Fungsi yang ingin dicari akarnya:\n",
    "\n",
    "$[\n",
    "f(t) = \\text{jarak}(t) - (R_{\\text{Bumi}} + R_{\\text{Bulan}})\n",
    "]$\n",
    "\n",
    "dengan:\n",
    "- $( \\text{jarak}(t) )$ diperoleh dari interpolasi lintasan Bulan,\n",
    "- $( R_{\\text{Bumi}} )$ dan $( R_{\\text{Bulan}} )$ adalah jari-jari masing-masing benda.\n",
    "\n",
    "Akar dari fungsi ini merepresentasikan waktu saat Bulan menyentuh permukaan Bumi (tumbukan terjadi).\n",
    "\n",
    "\n",
    "##### **Interpolasi**\n",
    "\n",
    "Untuk memperoleh jarak Bulan-Bumi sebagai fungsi yang kontinu terhadap waktu, kami terapkan **interpolasi Cubic Spline** menggunakan `CubicSpline` dari `scipy.interpolate`.\n",
    "\n",
    "Interpolasi ini penting karena hasil Runge-Kutta hanya memberikan titik-titik diskrit. Fungsi jarak $( r(t) )$ yang halus dan kontinu kami butuhkan untuk proses akar (Newton-Raphson) dan visualisasi akhir nanti.\n",
    "\n",
    "Interpolasi juga kami gunakan untuk memperhalus grafik dan memberikan akurasi yang lebih baik dalam estimasi tumbukan.\n",
    "\n",
    "\n"
   ]
  },
  {
   "cell_type": "markdown",
   "id": "83030a3c",
   "metadata": {},
   "source": [
    "### **IV. HASIL DAN PEMBAHASAN**\n",
    "\n",
    "#### **A. Hasil Simulasi Lintasan Bulan**\n",
    "\n",
    "**Visualisasi Lintasan 3D:**\n",
    "Hasil simulasi menunjukkan lintasan tiga dimensi Bulan di sekitar Bumi. Plot statis 3D (output dari fig_static_3d) merupakan keseluruhan jalur yang ditempuh Bulan selama periode simulasi. Pada kondisi awal yang ditetapkan (r_awal_x = 10 * R_BUMI, r_awal_y = 0, r_awal_z = 2 * R_BUMI untuk posisi, dan v_awal_x = 0, v_awal_y = 1000, v_awal_z = -200 untuk kecepatan), Bulan menunjukkan lintasan spiral yang secara signifikan mendekati Bumi. Hal ini terlihat dari penurunan jarak antara Bulan dan Bumi seiring waktu pada plot jarak. Bentuk lintasan yang dihasilkan merupakan hasil dari gaya gravitasi Bumi yang menarik Bulan ke pusatnya, yang diakibatkan kecepatan awal Bulan yang tidak cukup untuk mempertahankan orbit stabil pada jarak tersebut.\n",
    "\n",
    "**Perubahan Jarak Bulan-Bumi terhadap Waktu:**\n",
    "Grafik jarak Bulan dari pusat Bumi ditunjukan dalam fungsi waktu (output dari plt.figure(figsize=(10, 6)) untuk plot jarak) yang menunjukkan penurunan yang signifikan. Pada awal simulasi, jarak Bulan adalah sekitar 10 kali radius Bumi. Seiring waktu, jarak ini akan terus berkurang, yang mengindikasikan bahwa Bulan berada pada lintasan jatuh menuju Bumi. Garis putus-putus merah horizontal pada grafik menunjukkan \"Jarak Tumbukan Ideal\", atau jumlah radius Bumi dan Bulan (R_BUMI + R_BULAN). Jika lintasan Bulan melintasi garis ini maka akan berpotensi terjadinya benturan.\n",
    "\n",
    "#### **B. Analisis Potensi Tumbukan dan Penentuan Waktu Tumbukan**\n",
    "\n",
    "**Penerapan Interpolasi Cubic Spline:**\n",
    "Data posisi Bulan yang diperoleh dari metode Runge-Kutta bersifat diskrit. Oleh karena itu, untuk memungkinkan pencarian akar yang akurat pada fungsi jarak, interpolasi Cubic Spline (CubicSpline dari scipy.interpolate) kami terapkan pada data jarak Bulan-Bumi terhadap waktu. Interpolasi ini akan menghasilkan fungsi jarak yang kontinu (interp_jarak_3d), yang sangat penting untuk metode Newton-Raphson. Pada plot jarak versus waktu, kurva interpolasi (garis putus-putus) terlihat sangat sesuai dengan titik-titik data awal dari Runge-Kutta, yang menunjukkan kehalusan dan tingkat akurasi interpolasi yang cukup tinggi.\n",
    "\n",
    "**Penentuan Waktu Tumbukan dengan Metode Newton-Raphson:**\n",
    "Melalui metode Newton-Raphson (newton dari scipy.optimize), kami lakukan pencarian akar dari fungsi f(t)=jarak(t)−(R \n",
    "Bumi\n",
    "​\n",
    " +R \n",
    "Bulan\n",
    "​\n",
    " ). Dalam simulasi ini, karena Bulan menumbuk Bumi, metode Newton-Raphson berhasil mengestimasi waktu tumbukan (t_tumbukan_nr). Hasil output menunjukkan estimasi waktu tumbukan dalam jam, bersamaan dengan jarak Bulan ke Bumi pada waktu tersebut berdasarkan hasil dari interpolasi PDB, yang sangat mendekati \"Jarak Tumbukan Ideal\". Titik merah pada plot statis 3D dan plot jarak versus waktu secara visual menunjukan lokasi dan waktu tumbukan yang diperkirakan. Tingkat konvergensi metode Newton-Raphson dalam kasus ini terbukti cepat karena sifat fungsi jarak yang relatif mulus dan tebakan awal yang cukup baik berdasarkan titik data yang mendekati tumbukan.\n",
    "\n",
    "#### **C. Pembahasan Kinerja Metode Numerik**\n",
    "\n",
    "**Efektivitas Metode Runge-Kutta (RK45):**\n",
    "Metode Runge-Kutta orde 4/5 (RK45) yang diimplementasikan melalui solve_ivp dari scipy.integrate terbukti sangat efektif dalam menyelesaikan sistem PDB gerak Bulan. Metode ini menghasilkan lintasan Bulan yang akurat dan stabil sepanjang durasi simulasi, yang bisa dilihat pada simulasi di mana Bulan menabrak Bumi. Hal ini sangat penting untuk pemodelan gerak benda langit karena RK45 dapat menangani sistem non-linear seperti interaksi gravitasi dengan presisi yang cukup tinggi.\n",
    "\n",
    "**Peran Interpolasi dan Newton-Raphson:**\n",
    "Menggabungkan metode Runge-Kutta, interpolasi Cubic Spline, dan Newton-Raphson merupakan pilihan yang tepat karena hasil outputnya sangatlah sesuai dengan yang kami harapkan. Runge-Kutta memberikan titik-titik data posisi dan kecepatan yang akurat. Interpolasi Cubic Spline kemudian mengubah data diskrit ini menjadi fungsi kontinu, yang merupakan syarat penting bagi metode Newton-Raphson untuk bekerja secara efektif. Tanpa interpolasi, penentuan waktu tumbukan yang presisi akan sulit dilakukan. Newton-Raphson sendiri berfungsi untuk menemukan akar fungsi dengan cepat dan akurat, yang sangat penting untuk mengidentifikasi momen tumbukan secara tepat.\n",
    "\n",
    "#### **D. Implikasi dan Interpretasi Hasil**\n",
    "\n",
    "Meskipun menggunakan kondisi awal yang dimodifikasi agar Bulan menabrak Bumi, kode ini berhasil menggambarkan prinsip dasar gaya gravitasi Newton dan dinamika orbit dalam tiga dimensi. Output kode juga menunjukkan bahwa perubahan kecil pada kecepatan awal Bulan dapat secara drastis merubah jalur orbitnya, dari orbit stabil (seperti dalam kondisi real) menjadi lintasan jatuh yang berakhir dengan tumbukan. Pemilihan parameter r_awal_x = 10 * R_BUMI, r_awal_z = 2 * R_BUMI, dan kecepatan v_awal_y = 1000, v_awal_z = -200 secara spesifik mengilustrasikan skenario di mana Bulan memiliki energi yang tidak cukup untuk mempertahankan orbitnya dan akhirnya jatuh ke bumi akibat dari gaya grafitasi bumi. Animasi 3D sendiri secara visual menunjukan proses jatuhnya Bulan, dengan tanda Bulan menjadi hitam setelah mencapai waktu tumbukan"
   ]
  },
  {
   "cell_type": "markdown",
   "id": "4fca9b86",
   "metadata": {},
   "source": [
    "#### **V. KESIMPULAN**\n",
    "Dapat kami simpulkan bahwa model grafitasi dua benda cukup efektif untuk mensimulasikan pergerakan bulan yang dipengaruhi oleh gaya grevitasi bumi dengan menggunakan persamaan diferensial yang diselesaikan dengan cara numerik. Metode Runge kutta menggunakan orde 4/5 (RK45) berhasil menghasilkan lintasan bulan yang akurat dan stabil selama simulasi, sementara interpolan cubic spline membantu memperhalus data hasil simulasi agar pencarian waktu tumbukan bisa dilakukan dengan lebih tepat. Metode Newto Raphson digunakan untuk menentukan waktu terjadinya tumbukan antara bulan dan bumi secara persisi dengan mencari akar fungsi jarak terhadap waaktu. \n",
    "\n",
    "Simulasi ini menunjukkan pendekatan numerik dalam menyelesaikan masalah fisika yang kompleks, dan dapat dikembangkan lebih lanjut dengan mempertimbangkan gaya-gaya tambahan seperti pengaruh Matahari, atmosfer, atau efek non-gravitasi lainnya."
   ]
  }
 ],
 "metadata": {
  "kernelspec": {
   "display_name": ".venv",
   "language": "python",
   "name": "python3"
  },
  "language_info": {
   "codemirror_mode": {
    "name": "ipython",
    "version": 3
   },
   "file_extension": ".py",
   "mimetype": "text/x-python",
   "name": "python",
   "nbconvert_exporter": "python",
   "pygments_lexer": "ipython3",
   "version": "3.11.9"
  }
 },
 "nbformat": 4,
 "nbformat_minor": 5
}
