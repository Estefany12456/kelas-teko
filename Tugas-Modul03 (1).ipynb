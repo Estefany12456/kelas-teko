{
 "cells": [
  {
   "cell_type": "markdown",
   "metadata": {},
   "source": [
    "# **Soal No 1**"
   ]
  },
  {
   "cell_type": "markdown",
   "metadata": {},
   "source": [
    "# `Metode Regula Falsi (False Position)`\n",
    "## Pendahuluan\n",
    "Metode Regula Falsi merupakan pengembangan dari Metode Bagi Dua (Bisection Method). Prinsip utamanya adalah menggunakan dua titik awal yang mengapit akar dan memperkirakan akar menggunakan garis lurus yang menghubungkan titik-titik tersebut.\n",
    "\n",
    "Metode ini didasarkan pada konsep interpolasi linear, di mana perkiraan akar baru diperoleh dari persamaan garis lurus yang melewati dua titik fungsi yang berbeda tanda. Keunggulan metode ini adalah tetap mempertahankan jaminan konvergensi seperti metode bagi dua, tetapi dengan kecepatan yang lebih tinggi dalam beberapa kasus.\n",
    "\n",
    "Metode ini memiliki kelebihan dan kekurangan, diantaranya :\n",
    "* Kelebihan, Konvergen seperti metode bagi dua (akar tetap berada dalam interval)\n",
    "dan Lebih cepat dari metode bagi dua dalam beberapa kasus\n",
    "* Kekurangan, Bisa mengalami konvergensi yang sangat lambat jika fungsi memiliki kemiringan kecil di salah satu ujung interval\n"
   ]
  },
  {
   "cell_type": "markdown",
   "metadata": {},
   "source": [
    "## Algoritma\n",
    "Langkah Langkah Algoritma\n",
    "1. Tentukan dua titik awal $ x_0 $ dan $ x_1 $ sedemikian rupa sehingga $ f(x_0) $ dan $ f(x_1) $ memiliki tanda yang berlawanan (ada akar di antara keduanya).\n",
    "2. Hitung titik perkiraan akar $ x_2 $ menggunakan rumus interpolasi linear :\n",
    "$ x_0 = x_1 - \\frac{f(x_1) \\cdot (x_1 - x_0) }{f(x_o) - f(x_0)} $\n",
    "3. Evaluasi $ f(x_2) $ :\n",
    "- Jika $ f(x_2) $ sangat kecil atau mendekati nol (sesuai toleransi), maka $ x_2 $ adalah akar dan algoritma berhenti.\n",
    "- Jika $ f(x_0) \\cdot f(x_2) < 0 $, maka akar berada antara $ x_0 $ dan $ x_2$, sehingga perbarui $ x_1 = x_2 $.\n",
    "- Jika $ f(x_1) \\cdot f(x_2) < 0 $, maka akar berada antara $ x_2 $ dan $ x_1 $, sehingga perbarui $ x_0 = x_2 $.\n",
    "4. Ulangi langkah 2 dan 3 hingga nilai error lebih kecil dari toleransi atau jumlah iterasi maksimum tercapai.\n",
    "\n"
   ]
  },
  {
   "cell_type": "markdown",
   "metadata": {},
   "source": [
    "## *Pseudocode*\n",
    "1. Input: $ f(x), x_0, x_1 $, toleransi, iter_max\n",
    "2. Jika $ f(x_0) \\cdot f(x_1) ≥ 0 $, keluar (interval tidak valid)\n",
    "3. Untuk iterasi ke-1 hingga iter_max :\n",
    "* Hitung $ x_2 = x_1 - (f(x_1) \\cdot (x_1 - x_0)) / (f(x_1) - f(x_0)) $\n",
    "* Jika $ |f(x2)| < $ toleransi, return $ x_2 $ (akar ditemukan)\n",
    "* Jika $ f(x_0) \\cdot f(x_2) < 0 $, maka $ x_1 = x_2 $\n",
    "       Jika tidak, maka $ x_0 = x_2 $\n",
    "4. Jika iterasi maksimum tercapai, return $ x_2 $ (perkiraan akar)\n"
   ]
  },
  {
   "cell_type": "markdown",
   "metadata": {},
   "source": [
    "## Implementasi dalam Pyhton"
   ]
  },
  {
   "cell_type": "code",
   "execution_count": null,
   "metadata": {},
   "outputs": [
    {
     "name": "stdout",
     "output_type": "stream",
     "text": [
      "Akar ditemukan: 2.7065279131342495\n"
     ]
    }
   ],
   "source": [
    "def regula_falsi(f, x0, x1, tol=1e-6, max_iter=100):\n",
    "    if f(x0) * f(x1) >= 0:\n",
    "        print(\"Interval tidak valid. f(x0) dan f(x1) harus memiliki tanda berlawanan.\")\n",
    "        return None\n",
    "\n",
    "    for i in range(max_iter):\n",
    "        # Hitung x2 dengan rumus Regula Falsi\n",
    "        x2 = x1 - (f(x1) * (x1 - x0)) / (f(x1) - f(x0))\n",
    "\n",
    "        # Jika nilai f(x2) cukup kecil, maka akar ditemukan\n",
    "        if abs(f(x2)) < tol:\n",
    "            return x2\n",
    "\n",
    "        # Perbarui interval [x0, x1]\n",
    "        if f(x0) * f(x2) < 0:\n",
    "            x1 = x2\n",
    "        else:\n",
    "            x0 = x2\n",
    "\n",
    "    print(\"Metode tidak konvergen dalam jumlah iterasi maksimum.\")\n",
    "    return x2  # Perkiraan akar terakhir\n",
    "\n",
    "# Contoh penggunaan dengan fungsi f(x) = x^3 - x - 2\n",
    "def f(x):\n",
    "    return x**3 - x - 2\n",
    "\n",
    "# Menentukan akar dalam interval [1, 2]\n",
    "akar = regula_falsi(f, 1, 2)\n",
    "if akar is not None:\n",
    "    print(f\"Akar ditemukan: {akar:.6f}\")\n"
   ]
  },
  {
   "cell_type": "markdown",
   "metadata": {},
   "source": [
    "## Aplikasi Fisika\n",
    "**Menentukan Kecepatan Terminal Benda yang Jatuh dalam Fluida** \n",
    "\n",
    "Ketika sebuah benda jatuh dalam fluida, gaya hambat akibat viskositas bekerja pada benda tersebut. Kecepatan terminal $ v_t $ adalah kecepatan maksimum ketika gaya berat seimbang dengan gaya hambat. Persamaan keseimbangan gaya:\\\n",
    "$ mg - bv = 0 $ \\\n",
    "dimana :\n",
    "* $ m $ : massa benda (kg)\n",
    "* $ g $ : percepatan gravitasi (9.81 m/$ s^2 $)\n",
    "* $ b $ : koefisien hambatan fluida (Ns/$ m^2 $)\n",
    "* $ v $ : kecepatan benda (m/s)\\\n",
    "\n",
    "sehingga akar persamaan yang ingin kita cari:\\\n",
    "$ f(v) = mg - bv^2 $\n",
    "\n",
    "## Implementasi dalam Python"
   ]
  },
  {
   "cell_type": "code",
   "execution_count": 1,
   "metadata": {},
   "outputs": [
    {
     "name": "stdout",
     "output_type": "stream",
     "text": [
      "Kecepatan terminal: 7.4119 m/s\n"
     ]
    }
   ],
   "source": [
    "def regula_falsi(f, x0, x1, tol=1e-6, max_iter=100):\n",
    "    if f(x0) * f(x1) >= 0:\n",
    "        print(\"Interval tidak valid. f(x0) dan f(x1) harus memiliki tanda berlawanan.\")\n",
    "        return None\n",
    "\n",
    "    for i in range(max_iter):\n",
    "        x2 = x1 - (f(x1) * (x1 - x0)) / (f(x1) - f(x0))  # Rumus Regula Falsi\n",
    "        \n",
    "        if abs(f(x2)) < tol:  # Konvergen jika f(x2) mendekati nol\n",
    "            return x2\n",
    "\n",
    "        if f(x0) * f(x2) < 0:  # Akar ada di interval [x0, x2]\n",
    "            x1 = x2\n",
    "        else:  # Akar ada di interval [x2, x1]\n",
    "            x0 = x2\n",
    "\n",
    "    print(\"Metode tidak konvergen dalam jumlah iterasi maksimum.\")\n",
    "    return x2\n",
    "\n",
    "# Parameter fisik\n",
    "m = 70  # kg (massa benda)\n",
    "g = 9.81  # m/s² (gravitasi)\n",
    "b = 12.5  # Ns/m² (koefisien hambatan)\n",
    "\n",
    "# Fungsi kecepatan terminal\n",
    "f = lambda v: (m * g) - (b * v**2)\n",
    "\n",
    "# Menentukan akar (kecepatan terminal)\n",
    "vt = regula_falsi(f, 0, 10)\n",
    "print(f\"Kecepatan terminal: {vt:.4f} m/s\")"
   ]
  },
  {
   "cell_type": "markdown",
   "metadata": {},
   "source": [
    "# `Metode Secant`\n",
    "## Pendahuluan\n",
    "Metode Secant adalah pengembangan dari Metode Newton-Raphson, tetapi tanpa memerlukan turunan dari fungsi. Dalam metode ini, akar didekati dengan menggunakan dua titik awal dan menggambar garis secant yang memotong sumbu-x. Perkiraan akar berikutnya diperoleh dari perpotongan garis secant ini dengan sumbu-x.Metode ini dapat lebih cepat daripada Regula Falsi, tetapi tidak selalu menjamin bahwa akar tetap dalam interval yang diberikan.\n",
    "Metode ini memiliki kelebihan dan kekurangan, diantaranya :\n",
    "* Kelebihan, Lebih cepat dari metode Regula Falsi dalam banyak kasus, Tidak memerlukan perhitungan turunan seperti metode Newton-Raphson\n",
    "* Kekurangan, Tidak selalu konvergen (bisa gagal jika dua titik awal tidak dipilih dengan baik), Bisa menghasilkan nilai akar yang berada di luar interval awal."
   ]
  },
  {
   "cell_type": "markdown",
   "metadata": {},
   "source": [
    "## Algoritma\n",
    "Langkah - langkah Algoritma\n",
    "1. Pilih dua titik awal $ x_0 $ dan $ x_1 $\n",
    "2. Hitung titik baru $ x_2 $ menggunakan rumus :\\\n",
    "$ x_2 = x_1 - \\frac{f(x_1) \\cdot f(x_1 - x_0)}{f(x_1) - f(x_0)} $\n",
    "3. Periksa apakah $ |x_2 - x_1| $ atau $ |f(x_2) $ kurang dari toleransi yang diinginkan:\n",
    "    - Jika ya, maka $ x_2 $ adalah akar dan algoritma berhenti.\n",
    "    - Jika tidak, diperbarui nilai:\n",
    "        - $ x_0 $ menjadi $ x_1 $\n",
    "        - $ x_1 $ menjadi $ x_2 $\n",
    "4. Ulangi langkah 2 dan 3 hingga konvergen atau jumlah iterasi maksimum tercapai.     "
   ]
  },
  {
   "cell_type": "markdown",
   "metadata": {},
   "source": [
    "## *Pseudocode*\n",
    "1. Input: $ f(x), x0, x1 $, toleransi, iter_max\n",
    "2. Untuk iterasi ke-1 hingga iter_max:\\\n",
    "    a. Hitung  $ x_2 = x_1 - (f(x_1) * (x_1 - x_0)) / (f(x_1) - f(x_0)) $\\\n",
    "    b. Jika $ |x2 - x1| < $ toleransi atau $ |f(x_2)| < $ toleransi, return $ x_2 $ (akar ditemukan)\\\n",
    "    c. Perbarui $ x_0 = x_1, x_1 = x_2 $\n",
    "3. Jika iterasi maksimum tercapai, return x2 (perkiraan akar).\n"
   ]
  },
  {
   "cell_type": "markdown",
   "metadata": {},
   "source": [
    "## Implementasi dalam Pyhton"
   ]
  },
  {
   "cell_type": "code",
   "execution_count": 2,
   "metadata": {},
   "outputs": [
    {
     "name": "stdout",
     "output_type": "stream",
     "text": [
      "Akar ditemukan: 2.7065279131342495\n"
     ]
    }
   ],
   "source": [
    "import numpy as np\n",
    "\n",
    "def regula_falsi(f, x0, x1, tol=1e-6, max_iter=100):\n",
    "    if f(x0) * f(x1) >= 0:\n",
    "        print(\"Interval tidak valid. f(x0) dan f(x1) harus memiliki tanda berlawanan.\")\n",
    "        return None\n",
    "\n",
    "    for i in range(max_iter):\n",
    "        x2 = x1 - (f(x1) * (x1 - x0)) / (f(x1) - f(x0))  # Rumus Regula Falsi\n",
    "        \n",
    "        if abs(f(x2)) < tol:  # Konvergen jika f(x2) mendekati nol\n",
    "            return x2\n",
    "\n",
    "        if f(x0) * f(x2) < 0:  # Akar ada di interval [x0, x2]\n",
    "            x1 = x2\n",
    "        else:  # Akar ada di interval [x2, x1]\n",
    "            x0 = x2\n",
    "\n",
    "    print(\"Metode tidak konvergen dalam jumlah iterasi maksimum.\")\n",
    "    return x2\n",
    "\n",
    "# Contoh penggunaan\n",
    "f = lambda x: x**3 - 4*x - 9  # Contoh fungsi\n",
    "akar = regula_falsi(f, 2, 3)\n",
    "print(\"Akar ditemukan:\", akar)"
   ]
  },
  {
   "cell_type": "markdown",
   "metadata": {},
   "source": [
    "## Aplikasi Fisika\n",
    "**Mencari Suhu di Permukaan Plat dengan Hukum Stefan-Boltzmann**\n",
    "\n",
    "Hukum Stefan-Boltzmann menyatakan bahwa daya yang dipancarkan oleh benda hitam berbanding lurus dengan pangkat empat suhu:\\\n",
    "$ P = \\sigma AT^4 $\n",
    "\n",
    "dimana:\n",
    "- $ P $ : daya yang dipancarkan (W)\n",
    "- $ \\sigma $ : konstanta Stefan-Boltzmann $ (5.67 \\cdot 10^-8W/m^2K^4 ) $\n",
    "- $ A $ = luas permukaan benda $ (m^2) $\n",
    "- $ T $ = suhu benda (K)\n"
   ]
  },
  {
   "cell_type": "markdown",
   "metadata": {},
   "source": [
    "## Implementasi dalam Python"
   ]
  },
  {
   "cell_type": "code",
   "execution_count": 7,
   "metadata": {},
   "outputs": [
    {
     "name": "stdout",
     "output_type": "stream",
     "text": [
      "Suhu permukaan benda: 306.4409 K\n"
     ]
    },
    {
     "data": {
      "image/png": "[encoded data removed]",
      "text/plain": [
       "<Figure size 800x500 with 1 Axes>"
      ]
     },
     "metadata": {},
     "output_type": "display_data"
    }
   ],
   "source": [
    "def secant_method(f, x0, x1, tol=1e-6, max_iter=100):\n",
    "    for i in range(max_iter):\n",
    "        if abs(f(x1) - f(x0)) < 1e-10:  # Hindari pembagian dengan nol\n",
    "            print(\"Dekomposisi gagal (pembagian oleh nilai sangat kecil).\")\n",
    "            return None\n",
    "        \n",
    "        x2 = x1 - (f(x1) * (x1 - x0)) / (f(x1) - f(x0))  # Rumus Secant\n",
    "        \n",
    "        if abs(x2 - x1) < tol:  # Konvergen jika perubahan sangat kecil\n",
    "            return x2\n",
    "\n",
    "        x0, x1 = x1, x2  # Perbarui nilai untuk iterasi berikutnya\n",
    "\n",
    "    print(\"Metode tidak konvergen dalam jumlah iterasi maksimum.\")\n",
    "    return x2\n",
    "\n",
    "# Parameter fisik\n",
    "sigma = 5.67e-8  # W/m²K⁴ (konstanta Stefan-Boltzmann)\n",
    "A = 2  # m² (luas permukaan benda)\n",
    "P = 1000  # W (daya yang dipancarkan)\n",
    "\n",
    "# Fungsi suhu berdasarkan hukum Stefan-Boltzmann\n",
    "f = lambda T: (sigma * A * T**4) - P\n",
    "\n",
    "# Menentukan akar (suhu benda) dengan metode Secant\n",
    "T_surface = secant_method(f, 200, 500)\n",
    "print(f\"Suhu permukaan benda: {T_surface:.4f} K\")\n",
    "\n",
    "import numpy as np\n",
    "import matplotlib.pyplot as plt\n",
    "\n",
    "# Rentang suhu untuk grafik\n",
    "T_values = np.linspace(200, 500, 400)  # Rentang suhu dari 200K sampai 500K\n",
    "f_values = [f(T) for T in T_values]  # Hitung nilai fungsi untuk setiap suhu T\n",
    "\n",
    "# Membuat plot\n",
    "plt.figure(figsize=(8, 5))\n",
    "plt.plot(T_values, f_values, label=r'$f(T) = \\sigma A T^4 - P$', color='b')  # Plot kurva fungsi\n",
    "plt.axhline(0, color='gray', linestyle='--')  # Garis y = 0 sebagai referensi\n",
    "plt.scatter(T_surface, 0, color='red', label=f'Akar: {T_surface:.2f} K')  # Titik akar\n",
    "\n",
    "# Label dan judul\n",
    "plt.xlabel('Suhu (K)')\n",
    "plt.ylabel('f(T)')\n",
    "plt.title('Grafik Fungsi Stefan-Boltzmann dan Metode Secant')\n",
    "plt.legend()\n",
    "plt.grid(True)\n",
    "\n",
    "# Menampilkan grafik\n",
    "plt.show()\n"
   ]
  }
 ],
 "metadata": {
  "kernelspec": {
   "display_name": ".venv",
   "language": "python",
   "name": "python3"
  },
  "language_info": {
   "codemirror_mode": {
    "name": "ipython",
    "version": 3
   },
   "file_extension": ".py",
   "mimetype": "text/x-python",
   "name": "python",
   "nbconvert_exporter": "python",
   "pygments_lexer": "ipython3",
   "version": "3.11.9"
  }
 },
 "nbformat": 4,
 "nbformat_minor": 2
}
