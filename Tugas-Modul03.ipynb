{
 "cells": [
  {
   "cell_type": "markdown",
   "metadata": {},
   "source": [
    "### NOMER 1\n",
    "\n",
    "#### **1. Metode Regula Falsi (False Position)**\n",
    "Metode Regula Falsi adalah metode numerik untuk mencari akar persamaan nonlinear. Metode ini merupakan pengembangan dari Metode Bagi Dua (Bisection), tetapi menggunakan pendekatan garis lurus (interpolasi linear) untuk memperkirakan akar. Keunggulan metode ini adalah konvergensi yang lebih cepat dibandingkan metode bagi dua, meskipun tetap mempertahankan jaminan konvergensi.\n",
    "\n",
    "---\n",
    "\n",
    "***Kelebihan dan Kekurangan***\n",
    "\n",
    "**Kelebihan:**\n",
    "\n",
    "- Konvergen seperti metode bagi dua (akar tetap berada dalam interval).\n",
    "\n",
    "- Lebih cepat dari metode bagi dua dalam beberapa kasus.\n",
    "\n",
    "**Kekurangan:**\n",
    "\n",
    "- Bisa mengalami konvergensi yang lambat jika fungsi memiliki kemiringan kecil di salah satu ujung interval.\n",
    "\n",
    "---\n",
    "\n",
    "#### Langkah-langkah algoritma disertai Pseudocode\n",
    "1. Tentukan interval $([a, b]$) yang mana $( f(a) \\cdot f(b) < 0 $).\n",
    "2. Hitung titik C sebagai perpotongan garis lurus yang menghubungkan $(a,f(a))(a,f(a))$ dan $(b,f(b)(b,f(b))$ dengan sumbu x: \n",
    "$$ [\n",
    "c =  \\frac{a \\cdot f(b)−b \\cdot f(a)}{f(b) - f(a)}\n",
    "]$$\n",
    "​\n",
    "\n",
    "3. Evaluasi $f(c):$\n",
    "    - Jika $∣f(c)∣<ϵ∣f(c)∣<ϵ$ (toleransi), maka $c$ adalah akar.\n",
    "    - Jika $f(a) \\cdot f(c)<0f(a) \\cdot f(c)<0$, akar berada di interval $[a,c][a,c]$.\n",
    "    - Jika $f(b) \\cdot f(c)<0f(b) \\cdot f(c)<0$, akar berada di interval $[c,b][c,b]$.\n",
    "4. Ulangi langkah 2-3 hingga konvergen"
   ]
  },
  {
   "cell_type": "markdown",
   "metadata": {},
   "source": [
    "### *Pseudocode*\n",
    "```python\n",
    "def bisection(f, a, b, tol=1e-6, max_iter=100):\n",
    "    if f(a) * f(b) >= 0:\n",
    "        print(\"Interval tidak valid. f(a) dan f(b) harus memiliki tanda berlawanan.\")\n",
    "        return None\n",
    "\n",
    "    iter = 0\n",
    "    while iter < max_iter:\n",
    "        c = (a + b) / 2\n",
    "        if abs(f(c)) < tol:\n",
    "            return c\n",
    "        if f(a) * f(c) < 0:\n",
    "            b = c\n",
    "        else:\n",
    "            a = c\n",
    "        iter += 1\n",
    "\n",
    "    print(\"Metode tidak konvergen dalam jumlah iterasi maksimum.\")\n",
    "    return c\n",
    "\n",
    "    # Contoh penggunaan\n",
    "f = lambda x: x**3 - 2*x - 5\n",
    "akar = bisection(f, 2, 3)\n",
    "print(\"Akar persamaan:\", akar)"
   ]
  },
  {
   "cell_type": "markdown",
   "metadata": {},
   "source": [
    "### ***Implementasi Python***"
   ]
  },
  {
   "cell_type": "code",
   "execution_count": null,
   "metadata": {},
   "outputs": [],
   "source": [
    "def bisection(f, a, b, tol=1e-6, max_iter=100):\n",
    "    if f(a) * f(b) >= 0:\n",
    "        print(\"Interval tidak valid. f(a) dan f(b) harus memiliki tanda berlawanan.\")\n",
    "        return None\n",
    "\n",
    "    iter = 0\n",
    "    while iter < max_iter:\n",
    "        c = (a + b) / 2\n",
    "        if abs(f(c)) < tol:\n",
    "            return c\n",
    "        if f(a) * f(c) < 0:\n",
    "            b = c\n",
    "        else:\n",
    "            a = c\n",
    "        iter += 1\n",
    "\n",
    "    print(\"Metode tidak konvergen dalam jumlah iterasi maksimum.\")\n",
    "    return c\n",
    "\n",
    "# Contoh penggunaan\n",
    "f = lambda x: x**3 - 2*x - 5\n",
    "akar = bisection(f, 2, 3)\n",
    "print(\"Akar persamaan:\", akar)"
   ]
  },
  {
   "cell_type": "markdown",
   "metadata": {},
   "source": [
    "### Aplikasi Fisika: Menentukan Ketinggian Maksimum Proyektil\n",
    "\n",
    "Dalam fisika, ketinggian maksimum proyektil dapat dihitung menggunakan persamaan gerak parabola. Misalkan sebuah proyektil ditembakkan dengan kecepatan awal $v_0$ dan sudut $(\\theta)$. Ketinggian maksimum $(h)$ dapat dicari dengan persamaan:\n",
    "\n",
    "$$[\n",
    "h = \\frac{v_0^2 \\sin^2(\\theta)}{2g}\n",
    "]$$\n",
    "\n",
    "Namun, jika kita ingin mencari sudut $(\\theta)$ yang menghasilkan ketinggian tertentu $(h)$, kita dapat menyusun ulang persamaan menjadi:\n",
    "\n",
    "$$[\n",
    "f(\\theta) = \\frac{v_0^2 \\sin^2(\\theta)}{2g} - h = 0\n",
    "]$$\n",
    "\n",
    "Metode Bagi Dua dapat digunakan untuk mencari nilai $(\\theta)$ yang memenuhi persamaan ini.\n",
    "\n"
   ]
  },
  {
   "cell_type": "markdown",
   "metadata": {},
   "source": [
    "**Python Code:**"
   ]
  },
  {
   "cell_type": "code",
   "execution_count": null,
   "metadata": {},
   "outputs": [],
   "source": [
    "\n",
    "import math\n",
    "\n",
    "# Parameter fisik\n",
    "v0 = 50  # Kecepatan awal (m/s)\n",
    "h_target = 30  # Ketinggian target (m)\n",
    "g = 9.81  # Percepatan gravitasi (m/s^2)\n",
    "\n",
    "# Fungsi untuk mencari sudut theta\n",
    "f = lambda theta: (v0**2 * math.sin(theta)**2) / (2 * g) - h_target\n",
    "\n",
    "# Mencari akar menggunakan metode bagi dua\n",
    "akar = bisection(f, 0, math.pi/2)  # Sudut theta antara 0 dan 90 derajat\n",
    "print(f\"Sudut theta untuk ketinggian {h_target} m: {math.degrees(akar):.4f} derajat\")"
   ]
  },
  {
   "cell_type": "markdown",
   "metadata": {},
   "source": [
    "### Metode Secant\n",
    "\n",
    "Metode Secant adalah salah satu metode numerik yang digunakan untuk mencari akar persamaan nonlinear (persamaan yang tidak dapat diselesaikan secara analitik). Metode ini merupakan modifikasi dari **Metode Newton-Raphson**, tetapi tidak memerlukan perhitungan turunan fungsi. Sebagai gantinya, metode ini menggunakan dua titik awal untuk memperkirakan akar dengan cara menggambar garis lurus (secant) yang menghubungkan dua titik pada kurva fungsi.\n",
    "\n",
    "---\n",
    "\n",
    "***Kelebihan dan Kekurangan Metode Secant***\n",
    "\n",
    "**Kelebihan:**\n",
    "1. **Tidak memerlukan turunan fungsi**: Metode Secant tidak memerlukan perhitungan turunan fungsi, sehingga lebih mudah diterapkan jika turunan fungsi sulit dihitung.\n",
    "2. **Lebih cepat dari metode Regula Falsi**: Dalam banyak kasus, metode Secant lebih cepat konvergen daripada metode Regula Falsi.\n",
    "3. **Sederhana**: Algoritma metode Secant relatif sederhana dan mudah diimplementasikan.\n",
    "\n",
    "**Kekurangan:**\n",
    "1. **Tidak selalu konvergen**: Metode ini tidak selalu menjamin konvergensi ke akar, terutama jika dua titik awal tidak dipilih dengan baik.\n",
    "2. **Bisa menghasilkan akar di luar interval**: Jika dua titik awal tidak mengapit akar, metode ini bisa menghasilkan nilai akar yang berada di luar interval awal.\n",
    "\n",
    "---\n",
    "\n",
    "#### Langkah-Langkah Metode Secant\n",
    "\n",
    "1. **Pilih dua titik awal**: Tentukan dua titik awal $(x_0)$ dan $(x_1)$ yang dekat dengan akar yang dicari.\n",
    "2. **Hitung titik baru**: Hitung titik baru $(x_2)$ menggunakan rumus:\n",
    "   $$[\n",
    "   x_2 = x_1 - \\frac{f(x_1) \\cdot (x_1 - x_0)}{f(x_1) - f(x_0)}\n",
    "   ]$$\n",
    "   Garis lurus yang menghubungkan $((x_0, f(x_0)))$ dan $((x_1, f(x_1)))$ disebut garis secant.\n",
    "3. **Evaluasi konvergensi**: Jika $(|f(x_2)| < epsilon)$ (toleransi), maka $(x_2)$ adalah akar yang dicari.\n",
    "4. **Update titik**: Jika belum konvergen, update titik $(x_0 = x_1)$ dan $(x_1 = x_2)$, lalu ulangi langkah 2-3.\n",
    "5. **Berhenti jika iterasi maksimum tercapai**: Jika jumlah iterasi mencapai batas maksimum, metode dihentikan.\n",
    "\n",
    "---\n",
    "\n",
    "## Pseudocode Metode Secant\n",
    "```plaintext\n",
    "1. Input: f(x), x0, x1, tol, max_iter\n",
    "2. Untuk iterasi ke-1 hingga max_iter:\n",
    "   a. Hitung $x2 = x1 - (f(x1) * (x1 - x0)) / (f(x1) - f(x0))$\n",
    "   b. Jika $|f(x2)| < tol, return x2 (akar ditemukan)$\n",
    "   c. Update $x0 = x1, x1 = x2$\n",
    "3. Jika iterasi maksimum tercapai, return $x2$ (perkiraan akar)"
   ]
  },
  {
   "cell_type": "markdown",
   "metadata": {},
   "source": [
    "### ***Implementasi Python***"
   ]
  },
  {
   "cell_type": "code",
   "execution_count": null,
   "metadata": {},
   "outputs": [],
   "source": [
    "def secant(f, x0, x1, tol=1e-6, max_iter=100):\n",
    "    iter = 0\n",
    "    while iter < max_iter:\n",
    "        x2 = x1 - (f(x1) * (x1 - x0)) / (f(x1) - f(x0))\n",
    "        if abs(f(x2)) < tol:\n",
    "            return x2\n",
    "        x0 = x1\n",
    "        x1 = x2\n",
    "        iter += 1\n",
    "\n",
    "    print(\"Metode tidak konvergen dalam jumlah iterasi maksimum.\")\n",
    "    return x2\n",
    "\n",
    "# Contoh penggunaan\n",
    "f = lambda x: x**3 - 2*x - 5  # Contoh fungsi\n",
    "akar = secant(f, 2, 3)\n",
    "print(\"Akar persamaan:\", akar)"
   ]
  },
  {
   "cell_type": "markdown",
   "metadata": {},
   "source": [
    "### ***Penerapan***"
   ]
  },
  {
   "cell_type": "code",
   "execution_count": null,
   "metadata": {},
   "outputs": [],
   "source": [
    "# Parameter fisik\n",
    "sigma = 5.67e-8  # Konstanta Stefan-Boltzmann\n",
    "A = 1.0  # Luas permukaan (m^2)\n",
    "P = 1000  # Daya yang dipancarkan (Watt)\n",
    "\n",
    "# Fungsi untuk mencari suhu T\n",
    "f = lambda T: sigma * A * T**4 - P\n",
    "\n",
    "# Mencari akar menggunakan metode Secant\n",
    "akar = secant(f, 100, 200)  # Tebakan awal T = 100 K dan 200 K\n",
    "print(f\"Suhu permukaan benda: {akar:.4f} K\")"
   ]
  },
  {
   "cell_type": "markdown",
   "metadata": {},
   "source": [
    "### Aplikasi Fisika: Menentukan Waktu Tempuh Proyektil\n",
    "\n",
    "Dalam fisika, waktu tempuh proyektil hingga mencapai tanah dapat dihitung menggunakan persamaan gerak vertikal. Misalkan sebuah proyektil ditembakkan dengan kecepatan awal \\(v_0\\) dan sudut \\(\\theta\\). Waktu tempuh \\(t\\) dapat dicari dengan persamaan:\n",
    "\n",
    "$$[\n",
    "y(t) = v_0 \\sin(\\theta) \\cdot t - \\frac{1}{2} g t^2\n",
    "]$$\n",
    "\n",
    "Jika proyektil jatuh kembali ke tanah $((y(t) = 0))$, persamaan menjadi:\n",
    "\n",
    "$$[\n",
    "f(t) = v_0 \\sin(\\theta) \\cdot t - \\frac{1}{2} g t^2 = 0\n",
    "]$$\n",
    "\n",
    "Metode Newton-Raphson dapat digunakan untuk mencari nilai $(t)$ yang memenuhi persamaan ini.\n"
   ]
  },
  {
   "cell_type": "markdown",
   "metadata": {},
   "source": [
    "**Python Code:**"
   ]
  },
  {
   "cell_type": "code",
   "execution_count": null,
   "metadata": {},
   "outputs": [],
   "source": [
    "\n",
    "import math\n",
    "\n",
    "# Parameter fisik\n",
    "v0 = 50  # Kecepatan awal (m/s)\n",
    "theta = math.radians(45)  # Sudut tembak (45 derajat)\n",
    "g = 9.81  # Percepatan gravitasi (m/s^2)\n",
    "\n",
    "# Fungsi untuk mencari waktu tempuh\n",
    "f = lambda t: v0 * math.sin(theta) * t - 0.5 * g * t**2\n",
    "df = lambda t: v0 * math.sin(theta) - g * t  # Turunan dari f(t)\n",
    "\n",
    "# Mencari akar menggunakan metode Newton-Raphson\n",
    "akar = newton_raphson(f, df, 5)  # Tebakan awal t = 5 detik\n",
    "print(f\"Waktu tempuh proyektil: {akar:.4f} detik\")"
   ]
  }
 ],
 "metadata": {
  "kernelspec": {
   "display_name": "Python 3",
   "language": "python",
   "name": "python3"
  },
  "language_info": {
   "codemirror_mode": {
    "name": "ipython",
    "version": 3
   },
   "file_extension": ".py",
   "mimetype": "text/x-python",
   "name": "python",
   "nbconvert_exporter": "python",
   "pygments_lexer": "ipython3",
   "version": "3.11.9"
  }
 },
 "nbformat": 4,
 "nbformat_minor": 2
}
